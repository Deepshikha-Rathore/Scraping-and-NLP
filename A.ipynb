{
 "cells": [
  {
   "cell_type": "code",
   "execution_count": 1,
   "id": "bfbea5cd",
   "metadata": {},
   "outputs": [
    {
     "data": {
      "text/plain": [
       "'URL_ID'"
      ]
     },
     "execution_count": 1,
     "metadata": {},
     "output_type": "execute_result"
    }
   ],
   "source": [
    "import openpyxl\n",
    "\n",
    "workbook=openpyxl.load_workbook(r\"C:\\Users\\HP\\Desktop\\pytyhon\\Input.xlsx\")\n",
    "\n",
    "sheet=workbook['Sheet1']\n",
    "\n",
    "excp=[37,44,51,57,57,91,92,100,107,108,112,144]\n",
    "\n",
    "f=0;\n",
    "coll=[]\n",
    "rem=[]\n",
    "num=[]\n",
    "for row in sheet.iter_rows():\n",
    "    for cell in excp:\n",
    "        if(row[0].value==cell):\n",
    "            if cell!=44 and cell!=57 and cell!=144:\n",
    "                rem.append(row[1].value)\n",
    "            f=-1;\n",
    "    if(f!=-1):\n",
    "        coll.append(row[1].value)\n",
    "        num.append(row[0].value)\n",
    "#         print(row[1].value)\n",
    "    f=0;\n",
    "    \n",
    "\n",
    "\n",
    "\n",
    "# import openpyxl\n",
    "\n",
    "# workbook=openpyxl.load_workbook(r\"C:\\Users\\HP\\Desktop\\pytyhon\\Input.xlsx\")\n",
    "\n",
    "# sheet=workbook['Sheet1']\n",
    "\n",
    "# coll=[]\n",
    "# num=[]\n",
    "# for row in sheet.iter_rows():\n",
    "#     #for cell in row:\n",
    "#     coll.append(row[1].value)\n",
    "#     num.append(row[0].value)\n",
    "# #         print() \n",
    "# coll.pop(0)\n",
    "# num.pop(0)\n",
    "import requests \n",
    "from bs4 import BeautifulSoup\n",
    "\n",
    "coll.pop(0)\n",
    "num.pop(0)\n",
    "# for ele in coll:\n",
    "#     url=ele\n",
    "#     #print(url)\n",
    "#     response=requests.get(url)\n",
    "#     soup=BeautifulSoup(response.content,\"html.parser\")\n",
    "#     hed=soup.find(class_=\"td-parallax-header\")\n",
    "#     title=hed.find('h1')\n",
    "#     print(title.text)\n",
    "#     my_class_elements=soup.find('div',class_=\"td-post-content tagdiv-type\")\n",
    "#     all_cont=[ele.text for ele in my_class_elements]\n",
    "#     all_text=''.join(all_cont)\n",
    "#     print(all_text)\n",
    "\n",
    "\n",
    "\n",
    "# url=coll[0].value\n",
    "# response=requests.get(url)\n",
    "\n",
    "# soup=BeautifulSoup(response.content,\"html.parser\")\n",
    "\n",
    "# my_class_elements=soup.find('div',class_=\"td-post-content tagdiv-type\")\n",
    "\n",
    "# #for tag in soup([\"header\",\"footer\",\"nav\",\"aside\"]):\n",
    "# #    tag.decompose()\n",
    "\n",
    "# all_cont=[ele.text for ele in my_class_elements]\n",
    "    \n",
    "# all_text=''.join(all_cont)\n",
    "\n",
    "# print(all_text)\n"
   ]
  },
  {
   "cell_type": "code",
   "execution_count": 2,
   "id": "d1ea6fdf",
   "metadata": {},
   "outputs": [],
   "source": [
    "# import requests \n",
    "# from bs4 import BeautifulSoup\n",
    "# import json\n",
    "# data=[]\n",
    "\n",
    "# # Only one time code------------------------------------------------------->\n",
    "# i=0;\n",
    "# for ele in coll:\n",
    "#     url=ele\n",
    "#     #print(url)\n",
    "#     response=requests.get(url)\n",
    "#     soup=BeautifulSoup(response.content,\"html.parser\")\n",
    "#     hed=soup.find(class_=\"td-parallax-header\")\n",
    "#     title=hed.find('h1')\n",
    "    \n",
    "#     div=soup.find(class_=\"td-post-author-name\")\n",
    "#     author=div.find('a')\n",
    "    \n",
    "#     div=soup.find('div',class_=\"td-parallax-header\")\n",
    "#     date=div.find('time')\n",
    "    \n",
    "#     div=soup.find('div',class_=\"td-parallax-header\")\n",
    "#     div=div.find(class_=\"td-post-views\")\n",
    "#     view=div.find('span')\n",
    "    \n",
    "#     div=soup.find(class_=\"td-parallax-header\")\n",
    "#     cat=div.find_all('li')\n",
    "    \n",
    "#     my_class_elements=soup.find('div',class_=\"td-post-content tagdiv-type\")\n",
    "#     all_cont=[ele.text for ele in my_class_elements]\n",
    "#     all_text=''.join(all_cont)\n",
    "    \n",
    "#     item={\n",
    "#         \"id\": num[i],\n",
    "#         \"title\" : title.text,\n",
    "#         \"author\":author.text,\n",
    "#         \"category\":[ele.text for ele in cat],\n",
    "#         \"date\":date.text,\n",
    "#         \"view\":view.text,\n",
    "#         \"content\":all_text\n",
    "#     }\n",
    "#     data.append(item)\n",
    "#     i=i+1\n",
    "    \n",
    "\n",
    "# div=soup.find(class_=\"td-post-author-name\")\n",
    "# author=div.find('a')\n",
    "# print(author.text)\n",
    "# json_data=json.dumps(data)\n",
    "# print(json_data)"
   ]
  },
  {
   "cell_type": "code",
   "execution_count": 3,
   "id": "44f54c2e",
   "metadata": {},
   "outputs": [],
   "source": [
    "# json_data=json.dumps(data)\n",
    "# print(json_data)"
   ]
  },
  {
   "cell_type": "code",
   "execution_count": 4,
   "id": "819d6fd2",
   "metadata": {},
   "outputs": [],
   "source": [
    "# div=soup.find(class_=\"td-parallax-header\")\n",
    "\n",
    "# title=div.find('h1')\n",
    "# print(title.text)"
   ]
  },
  {
   "cell_type": "code",
   "execution_count": 5,
   "id": "ac6fc418",
   "metadata": {},
   "outputs": [],
   "source": [
    "# div=soup.find('div',class_=\"td-parallax-header\")\n",
    "# date=div.find('time')\n",
    "# print(date.text)"
   ]
  },
  {
   "cell_type": "code",
   "execution_count": 6,
   "id": "a9f304b0",
   "metadata": {},
   "outputs": [],
   "source": [
    "# div=soup.find('div',class_=\"td-parallax-header\")\n",
    "# div=div.find(class_=\"td-post-views\")\n",
    "# view=div.find('span')\n",
    "# print(view.text)"
   ]
  },
  {
   "cell_type": "code",
   "execution_count": 7,
   "id": "35f23053",
   "metadata": {},
   "outputs": [],
   "source": [
    "# div=soup.find(class_=\"td-parallax-header\")\n",
    "\n",
    "# cat=div.find_all('li')\n",
    "\n",
    "# for ele in cat:\n",
    "#     print(ele.text)"
   ]
  },
  {
   "cell_type": "code",
   "execution_count": 8,
   "id": "7bde1c2b",
   "metadata": {},
   "outputs": [],
   "source": [
    "# import json\n",
    "# data={\n",
    "#     \"title\" : title.text,\n",
    "#     \"author\":author.text,\n",
    "#     \"category\":[ele.text for ele in cat],\n",
    "#     \"date\":date.text,\n",
    "#     \"view\":view.text,\n",
    "#     \"content\":all_text\n",
    "# }\n",
    "\n",
    "# json_data=json.dumps(data)\n",
    "# print(json_data)"
   ]
  },
  {
   "cell_type": "code",
   "execution_count": 9,
   "id": "54b8673b",
   "metadata": {},
   "outputs": [],
   "source": [
    "# file_path=r'C:\\Users\\HP\\Desktop\\pytyhon\\data.json'\n",
    "# with open(file_path,'w') as file:\n",
    "#     file.write(json_data)"
   ]
  },
  {
   "cell_type": "code",
   "execution_count": 10,
   "id": "25a27994",
   "metadata": {},
   "outputs": [],
   "source": [
    "# data1=[]\n",
    "\n",
    "# for ele in rem:\n",
    "    \n",
    "#     url=ele\n",
    "#     response=requests.get(url)\n",
    "#     soup=BeautifulSoup(response.content,\"html.parser\")\n",
    "    \n",
    "#     hed=soup.find(class_=\"td-main-content-wrap td-container-wrap\")\n",
    "#     f1=hed.find(class_=\"td_block_wrap tdb_title tdi_122 tdb-single-title td-pb-border-top td_block_template_1\")\n",
    "#     final=f1.find(class_=\"tdb-block-inner td-fix-index\")\n",
    "#     title=final.find('h1')\n",
    "    \n",
    "#     div=soup.find(class_=\"tdb-author-name-wrap\")\n",
    "#     author=div.find('a')\n",
    "    \n",
    "#     div=soup.find(class_=\"td_block_wrap tdb_single_date tdi_125 td-pb-border-top td_block_template_1 tdb-post-meta\")\n",
    "#     dt=div.find('div',class_=\"tdb-block-inner td-fix-index\")\n",
    "#     date=dt.find('time')\n",
    "    \n",
    "#     div=soup.find(class_=\"td_block_wrap tdb_single_post_views tdi_127 td-pb-border-top td_block_template_1 tdb-post-meta\")\n",
    "#     v=div.find('div',class_=\"tdb-block-inner td-fix-index\")\n",
    "#     view=v.find(class_=\"td-nr-views-1889\")\n",
    "    \n",
    "    \n",
    "#     div=soup.find(class_=\"tdb-category td-fix-index\")\n",
    "#     cat=div.find_all('a')\n",
    "    \n",
    "#     elem=soupoup.find(class_=\"td_block_wrap tdb_single_content tdi_130 td-pb-border-top td_block_template_1 td-post-content tagdiv-type\")\n",
    "#     my_class_elements=elem.find('div',class_=\"tdb-block-inner td-fix-index\")\n",
    "#     all_cont=[ele.text for ele in my_class_elements]\n",
    "#     all_text=''.join(all_cont)\n",
    "    \n",
    "#     item={\n",
    "#         \"title\" : title.text,\n",
    "#         \"author\":author.text,\n",
    "#         \"category\":[ele.text for ele in cat],\n",
    "#         \"date\":date.text,\n",
    "#         \"view\":view.text,\n",
    "#         \"content\":all_text\n",
    "#     }\n",
    "#     data1.append(item)\n"
   ]
  },
  {
   "cell_type": "code",
   "execution_count": 11,
   "id": "30a6de42",
   "metadata": {},
   "outputs": [],
   "source": [
    "# json_data1=json.dumps(data1)\n",
    "# print(json_data1)"
   ]
  },
  {
   "cell_type": "code",
   "execution_count": null,
   "id": "4cf91d34",
   "metadata": {},
   "outputs": [],
   "source": []
  },
  {
   "cell_type": "code",
   "execution_count": null,
   "id": "903ffb31",
   "metadata": {},
   "outputs": [],
   "source": []
  },
  {
   "cell_type": "code",
   "execution_count": null,
   "id": "c505a753",
   "metadata": {},
   "outputs": [],
   "source": []
  },
  {
   "cell_type": "code",
   "execution_count": null,
   "id": "110622bc",
   "metadata": {},
   "outputs": [],
   "source": []
  },
  {
   "cell_type": "code",
   "execution_count": null,
   "id": "0a4dfef9",
   "metadata": {},
   "outputs": [],
   "source": []
  },
  {
   "cell_type": "code",
   "execution_count": null,
   "id": "525224ac",
   "metadata": {},
   "outputs": [],
   "source": []
  },
  {
   "cell_type": "code",
   "execution_count": null,
   "id": "1d85b4e9",
   "metadata": {},
   "outputs": [],
   "source": []
  },
  {
   "cell_type": "code",
   "execution_count": null,
   "id": "5ff4ab03",
   "metadata": {},
   "outputs": [],
   "source": []
  },
  {
   "cell_type": "code",
   "execution_count": null,
   "id": "dcea5f62",
   "metadata": {},
   "outputs": [],
   "source": []
  },
  {
   "cell_type": "code",
   "execution_count": 12,
   "id": "c2fed5da",
   "metadata": {},
   "outputs": [
    {
     "data": {
      "text/html": [
       "<div>\n",
       "<style scoped>\n",
       "    .dataframe tbody tr th:only-of-type {\n",
       "        vertical-align: middle;\n",
       "    }\n",
       "\n",
       "    .dataframe tbody tr th {\n",
       "        vertical-align: top;\n",
       "    }\n",
       "\n",
       "    .dataframe thead th {\n",
       "        text-align: right;\n",
       "    }\n",
       "</style>\n",
       "<table border=\"1\" class=\"dataframe\">\n",
       "  <thead>\n",
       "    <tr style=\"text-align: right;\">\n",
       "      <th></th>\n",
       "      <th>id</th>\n",
       "      <th>title</th>\n",
       "      <th>author</th>\n",
       "      <th>category</th>\n",
       "      <th>date</th>\n",
       "      <th>view</th>\n",
       "      <th>content</th>\n",
       "    </tr>\n",
       "  </thead>\n",
       "  <tbody>\n",
       "    <tr>\n",
       "      <th>0</th>\n",
       "      <td>38.0</td>\n",
       "      <td>What if the Creation is Taking Over the Creator?</td>\n",
       "      <td>Ajay Bidyarthy</td>\n",
       "      <td>[Data Science, Artificial Intelligence, Big Da...</td>\n",
       "      <td>June 25, 2021</td>\n",
       "      <td>13033</td>\n",
       "      <td>\\nHuman minds, a fascination in itself carryin...</td>\n",
       "    </tr>\n",
       "    <tr>\n",
       "      <th>1</th>\n",
       "      <td>39.0</td>\n",
       "      <td>What Jobs Will Robots Take From Humans in The ...</td>\n",
       "      <td>Ajay Bidyarthy</td>\n",
       "      <td>[Data Science, Artificial Intelligence, Big Da...</td>\n",
       "      <td>June 25, 2021</td>\n",
       "      <td>9416</td>\n",
       "      <td>\\nIntroduction\\nAI is rapidly evolving in the ...</td>\n",
       "    </tr>\n",
       "    <tr>\n",
       "      <th>2</th>\n",
       "      <td>40.0</td>\n",
       "      <td>Will Machine Replace The Human in the Future o...</td>\n",
       "      <td>Ajay Bidyarthy</td>\n",
       "      <td>[Data Science, Analytics, Artificial Intellige...</td>\n",
       "      <td>June 25, 2021</td>\n",
       "      <td>9518</td>\n",
       "      <td>\\n“Anything that could give rise to smarter-th...</td>\n",
       "    </tr>\n",
       "    <tr>\n",
       "      <th>3</th>\n",
       "      <td>41.0</td>\n",
       "      <td>Will AI Replace Us or Work With Us?</td>\n",
       "      <td>Ajay Bidyarthy</td>\n",
       "      <td>[Data Science, Artificial Intelligence, Big Da...</td>\n",
       "      <td>June 25, 2021</td>\n",
       "      <td>8739</td>\n",
       "      <td>\\n“Machine intelligence is the last invention ...</td>\n",
       "    </tr>\n",
       "    <tr>\n",
       "      <th>4</th>\n",
       "      <td>42.0</td>\n",
       "      <td>Will machine replace the human in the future o...</td>\n",
       "      <td>Ajay Bidyarthy</td>\n",
       "      <td>[Data Science, Analytics, Artificial Intellige...</td>\n",
       "      <td>June 24, 2021</td>\n",
       "      <td>8690</td>\n",
       "      <td>\\nIntroduction\\nWhere is this disruptive techn...</td>\n",
       "    </tr>\n",
       "    <tr>\n",
       "      <th>...</th>\n",
       "      <td>...</td>\n",
       "      <td>...</td>\n",
       "      <td>...</td>\n",
       "      <td>...</td>\n",
       "      <td>...</td>\n",
       "      <td>...</td>\n",
       "      <td>...</td>\n",
       "    </tr>\n",
       "    <tr>\n",
       "      <th>98</th>\n",
       "      <td>146.0</td>\n",
       "      <td>Blockchain for Payments</td>\n",
       "      <td>Ajay Bidyarthy</td>\n",
       "      <td>[What We Think, BFSI]</td>\n",
       "      <td>September 7, 2019</td>\n",
       "      <td>7424</td>\n",
       "      <td>\\nReconciling with the financial realities of ...</td>\n",
       "    </tr>\n",
       "    <tr>\n",
       "      <th>99</th>\n",
       "      <td>147.0</td>\n",
       "      <td>The future of Investing</td>\n",
       "      <td>Ajay Bidyarthy</td>\n",
       "      <td>[What We Think, BFSI]</td>\n",
       "      <td>August 31, 2019</td>\n",
       "      <td>7256</td>\n",
       "      <td>\\nWhat Is an Investment?\\nAn investment is a r...</td>\n",
       "    </tr>\n",
       "    <tr>\n",
       "      <th>100</th>\n",
       "      <td>148.0</td>\n",
       "      <td>Big Data Analytics in Healthcare</td>\n",
       "      <td>Ajay Bidyarthy</td>\n",
       "      <td>[What We Think, Healthcare]</td>\n",
       "      <td>July 19, 2019</td>\n",
       "      <td>7846</td>\n",
       "      <td>\\nQuality and affordable healthcare is a visio...</td>\n",
       "    </tr>\n",
       "    <tr>\n",
       "      <th>101</th>\n",
       "      <td>149.0</td>\n",
       "      <td>Business Analytics In The Healthcare Industry</td>\n",
       "      <td>Ajay Bidyarthy</td>\n",
       "      <td>[What We Think, Healthcare]</td>\n",
       "      <td>July 19, 2019</td>\n",
       "      <td>8365</td>\n",
       "      <td>\\nAnalytics is a statistical scientific proces...</td>\n",
       "    </tr>\n",
       "    <tr>\n",
       "      <th>102</th>\n",
       "      <td>150.0</td>\n",
       "      <td>Challenges and Opportunities of Big Data in He...</td>\n",
       "      <td>Ajay Bidyarthy</td>\n",
       "      <td>[What We Think, Healthcare]</td>\n",
       "      <td>July 19, 2019</td>\n",
       "      <td>9112</td>\n",
       "      <td>\\nBig Data\\nTo begin with I shall first like t...</td>\n",
       "    </tr>\n",
       "  </tbody>\n",
       "</table>\n",
       "<p>103 rows × 7 columns</p>\n",
       "</div>"
      ],
      "text/plain": [
       "        id                                              title          author  \\\n",
       "0     38.0   What if the Creation is Taking Over the Creator?  Ajay Bidyarthy   \n",
       "1     39.0  What Jobs Will Robots Take From Humans in The ...  Ajay Bidyarthy   \n",
       "2     40.0  Will Machine Replace The Human in the Future o...  Ajay Bidyarthy   \n",
       "3     41.0                Will AI Replace Us or Work With Us?  Ajay Bidyarthy   \n",
       "4     42.0  Will machine replace the human in the future o...  Ajay Bidyarthy   \n",
       "..     ...                                                ...             ...   \n",
       "98   146.0                            Blockchain for Payments  Ajay Bidyarthy   \n",
       "99   147.0                            The future of Investing  Ajay Bidyarthy   \n",
       "100  148.0                   Big Data Analytics in Healthcare  Ajay Bidyarthy   \n",
       "101  149.0      Business Analytics In The Healthcare Industry  Ajay Bidyarthy   \n",
       "102  150.0  Challenges and Opportunities of Big Data in He...  Ajay Bidyarthy   \n",
       "\n",
       "                                              category               date  \\\n",
       "0    [Data Science, Artificial Intelligence, Big Da...      June 25, 2021   \n",
       "1    [Data Science, Artificial Intelligence, Big Da...      June 25, 2021   \n",
       "2    [Data Science, Analytics, Artificial Intellige...      June 25, 2021   \n",
       "3    [Data Science, Artificial Intelligence, Big Da...      June 25, 2021   \n",
       "4    [Data Science, Analytics, Artificial Intellige...      June 24, 2021   \n",
       "..                                                 ...                ...   \n",
       "98                               [What We Think, BFSI]  September 7, 2019   \n",
       "99                               [What We Think, BFSI]    August 31, 2019   \n",
       "100                        [What We Think, Healthcare]      July 19, 2019   \n",
       "101                        [What We Think, Healthcare]      July 19, 2019   \n",
       "102                        [What We Think, Healthcare]      July 19, 2019   \n",
       "\n",
       "      view                                            content  \n",
       "0    13033  \\nHuman minds, a fascination in itself carryin...  \n",
       "1     9416  \\nIntroduction\\nAI is rapidly evolving in the ...  \n",
       "2     9518  \\n“Anything that could give rise to smarter-th...  \n",
       "3     8739  \\n“Machine intelligence is the last invention ...  \n",
       "4     8690  \\nIntroduction\\nWhere is this disruptive techn...  \n",
       "..     ...                                                ...  \n",
       "98    7424  \\nReconciling with the financial realities of ...  \n",
       "99    7256  \\nWhat Is an Investment?\\nAn investment is a r...  \n",
       "100   7846  \\nQuality and affordable healthcare is a visio...  \n",
       "101   8365  \\nAnalytics is a statistical scientific proces...  \n",
       "102   9112  \\nBig Data\\nTo begin with I shall first like t...  \n",
       "\n",
       "[103 rows x 7 columns]"
      ]
     },
     "execution_count": 12,
     "metadata": {},
     "output_type": "execute_result"
    }
   ],
   "source": [
    "import pandas as pd\n",
    "import json\n",
    "file_path=r'C:\\Users\\HP\\Desktop\\pytyhon\\data.json'\n",
    "\n",
    "with open(file_path,'r') as file:\n",
    "    data=json.load(file)\n",
    "    df=pd.DataFrame(data)\n",
    "    \n",
    "df"
   ]
  },
  {
   "cell_type": "code",
   "execution_count": 13,
   "id": "f16663e0",
   "metadata": {},
   "outputs": [],
   "source": [
    "# file_name=r'C:\\Users\\HP\\Desktop\\pytyhon\\file_csv.csv'\n",
    "# df.to_csv(file_name,index=False)"
   ]
  },
  {
   "cell_type": "code",
   "execution_count": 14,
   "id": "a26e2f0b",
   "metadata": {},
   "outputs": [],
   "source": [
    "df['merge']=df['title'].str.cat(df['content'],sep=' ')"
   ]
  },
  {
   "cell_type": "code",
   "execution_count": 15,
   "id": "7cf02476",
   "metadata": {},
   "outputs": [
    {
     "data": {
      "text/plain": [
       "'What if the Creation is Taking Over the Creator? \\nHuman minds, a fascination in itself carrying the potential of tinkering nature with the pixie dust intelligence, creating and solving the mysteries and wonders with anything but admiration. However, no matter how captivating a human mind can be, it could sometimes be appalled. It could be the hunger or maybe the desire to want more, to go beyond and unravel the limitations, or maybe something like pure greed. Humans have never stopped and always keep evolving when it comes to intelligence and this is what makes them the supreme.\\nIntelligence calls out for supremacy and so, what if there was to evolve something that opposed a challenge to the very human minds, to their capabilities while making them question their own importance among themselves? Artificial Intelligence came as a revolution, havoc when it first came to the light. The concept of making machines does work on their own, like granting machines –The Intelligence.\\nThe idea of making machines work like humans came back in the 19s. Back then people didn’t believe in such a thing as making a non-living thing work, think, and carry tasks on its own, not to mention, to actually surpass humans themselves in those skills. The facts are it did. By 1997. The greatest chess player, Garry Kasparov was defeated in a chess game by a machine and this is where exactly, a top skilled human lost to a mere machine created by another who by himself could’ve never defeated him. It was a rule of power, of betterment, of skills, and the granted supremacy. Were AI and Machines just tools? Equipment?\\xa0 Something that helped an unskilled person with his mind and intelligence creates something that could do the skilled work for him with perfection and precision? Well initially it was, however, as time passed as humans got drawn to the puzzle of AI, a lot changed. Human research went deeper and deeper and as a result, the machines evolved with it.\\nAt present, AI & Machines is a growing field. As it develops and improves, it has become a part of the industrial revolution. In industries, most of the laborious work that was once taken care of by humans was now replaced by machines. Naturally, with the evolution in machines, its precision, mass productivity, quality control, time efficiencies, and all the other factors made it a better choice. A choice over humans.\\nThis led to fear, a fear of a not-so-distant future, a future where maybe machines will be so evolved that they’ll take over the need of a human employee leading to unemployment. With the population increase around the world, it became the new tech threat for the labor market. Then again… how true is it? Does AI really oppose a threat? Will adapting to technology make millions of people lose their jobs? Will it lead to mass unemployment? Will the machines really surpass humans? Will, the creation take over the creator?\\nNo matter how fearful the future with AI may seem, in reality, it is not that scary. Truth is AI is the present reality, it is the key that holds the power to unlock a whole next level of human evolution. Technology is growing. There was a time where technology was just an idea, but today that idea has been implemented, it’s working and is carried out. Nobody could stop the advancement and growth of Artificial Intelligence, it’s a wave that is already flowing and we as the present generation and the generations to come to have to learn, to learn to swim in this flow and avoid drowning.\\nMany jobs will be replaced by machines, as AI evolves it’ll keep challenging human minds and their skills. With the present COVID 19 situation, contactless cashiers to robots delivering packages have already taken over the usual routine tasks. The jobs of Secretaries, Schedulers, and book-keeper are at risk too. Manufacturing units, agriculture, food services, retail, transportation & logistic, and hospitality are all a part of the AI-affected automation. At an estimation, it is said that around 20 million jobs, especially including manufacturing will be lost to robots. As AI, robotics, 3D printing, and genetics make their way in, even the architects, medical docs, and music composers feel threatened by technology. Making us question that will AI even edge us out of our brain jobs too? Now that can be terrifying.\\nHowever, as much as machines will be replacing few jobs, they’ll also be creating new jobs.\\xa0 With the economic growth, innovation, and investment around 133 million jobs are said to be generated. These newly enhanced jobs are to create benefits and amplify one’s creativity, strategy, and entrepreneurial skills. So what is the catch?\\nWell, it’s the skills. Even though AI is creating 3 times more jobs than it is destroying, it’s the skills that count. AI surged in new job opportunities, opportunities like Senior Data Scientist, Mobile Application Developer, and SEO specialist. These jobs were once never heard of but now with AI it’s born, however, to do these jobs or for its qualification, one needs high-level skills and to acquire those skills can be an expensive and time-consuming task. The future generation might be able to cope up with it but the real struggle is to be faced by the present two generations. It’s the vulnerability between the skill gap and unemployment and the youths are the ones to be crushed the most.\\nTherefore, as the advancement of AI becomes inevitable there remains no choice but to adapt, learn, equip ourselves and grow with it. The companies have to work together to build an AI-ready workplace. They should collaborate with the government, educators, and non-profit organizations and work together to bring out policies that could help understand the technologies’ impacts faster while also providing the employees some security. The economic and business planning should be made considerable for minimizing the impact on local jobs and properly maximizing the opportunities.\\nThe employees should be provided with proper tools to carry along with the new opportunities while acquiring AI-based skills for their day-to-day work. New skills should be identified and implemented for the upskilling and continual learning initiatives. Employees will have to maximize their Robotic Quotient and learn core skills. They’ll have to adapt to new working models and understand their roles in the coming future.\\xa0\\nHowsoever, it’s not like AI will totally take over control, even though AI proves to be a better choice, it still has its limitations at present. First, it’s expensive, secondly, manufacturing machines in bulk is not good for the environment. Machines are also very high maintenance, therefore human labor will often come cheaper and so will be considered over machines. Underdeveloped countries will find it hard to equip their people with the upskilling and reskilling required for AI workplace and so for AI to play a role in those countries, might take years. AI can also be risky and unethical, as it’s hard to figure out who to be held responsible for in cases where an AI went wrong.\\nNo matter, how advanced AI gets, there are some skills where humans will always have an upper hand i.e., soft skills. Skills like teamwork, communication, creativity, and critical thinking are something that AI hasn’t been able to beat us up to yet and so the value of creativity, leadership, and emotional intelligence has increased. Although, with machines coming in between humans causing the lack of human-to-human interaction, the humans seem to fade away a little.\\nWith this era, comes the need for good leaders. Leaders who are capable of handling both machines and humans together, the ones who are organized enough to manage the skilled and the unskilled employees while providing the unskilled trainees with proper training. Leaders who hold profound soft skills and encourage teamwork while working along with machines. The ones who are patient, calm, and optimized. \\xa0\\nIn conclusion, yes AI and machines are going to be very challenging but there’s nothing humans haven’t overcome. Adaptation and up-gradation are going to be the primary factor for survival. As we witness the onset of the 4th industrial revolution, let’s buckle up our seats and race along the highway with the essential fuels (skills) so as to not let ourselves eliminated. After all, this is an unending race with infinity as the end, all we could do is try not to run out of fuel. Try not to be outdated.\\xa0\\nBlackcoffer Insights 29: Glady, Karunya Institute of Technology and Sciences.\\n\\n'"
      ]
     },
     "execution_count": 15,
     "metadata": {},
     "output_type": "execute_result"
    }
   ],
   "source": [
    "ana=df['merge'][0]\n",
    "ana"
   ]
  },
  {
   "cell_type": "code",
   "execution_count": 16,
   "id": "ecae27b0",
   "metadata": {},
   "outputs": [
    {
     "data": {
      "text/html": [
       "<div>\n",
       "<style scoped>\n",
       "    .dataframe tbody tr th:only-of-type {\n",
       "        vertical-align: middle;\n",
       "    }\n",
       "\n",
       "    .dataframe tbody tr th {\n",
       "        vertical-align: top;\n",
       "    }\n",
       "\n",
       "    .dataframe thead th {\n",
       "        text-align: right;\n",
       "    }\n",
       "</style>\n",
       "<table border=\"1\" class=\"dataframe\">\n",
       "  <thead>\n",
       "    <tr style=\"text-align: right;\">\n",
       "      <th></th>\n",
       "      <th>id</th>\n",
       "      <th>title</th>\n",
       "      <th>author</th>\n",
       "      <th>category</th>\n",
       "      <th>date</th>\n",
       "      <th>view</th>\n",
       "      <th>content</th>\n",
       "      <th>merge</th>\n",
       "    </tr>\n",
       "  </thead>\n",
       "  <tbody>\n",
       "    <tr>\n",
       "      <th>0</th>\n",
       "      <td>38.0</td>\n",
       "      <td>What if the Creation is Taking Over the Creator?</td>\n",
       "      <td>Ajay Bidyarthy</td>\n",
       "      <td>[Data Science, Artificial Intelligence, Big Da...</td>\n",
       "      <td>June 25, 2021</td>\n",
       "      <td>13033</td>\n",
       "      <td>\\nHuman minds, a fascination in itself carryin...</td>\n",
       "      <td>What if the Creation is Taking Over the Creato...</td>\n",
       "    </tr>\n",
       "    <tr>\n",
       "      <th>1</th>\n",
       "      <td>39.0</td>\n",
       "      <td>What Jobs Will Robots Take From Humans in The ...</td>\n",
       "      <td>Ajay Bidyarthy</td>\n",
       "      <td>[Data Science, Artificial Intelligence, Big Da...</td>\n",
       "      <td>June 25, 2021</td>\n",
       "      <td>9416</td>\n",
       "      <td>\\nIntroduction\\nAI is rapidly evolving in the ...</td>\n",
       "      <td>What Jobs Will Robots Take From Humans in The ...</td>\n",
       "    </tr>\n",
       "    <tr>\n",
       "      <th>2</th>\n",
       "      <td>40.0</td>\n",
       "      <td>Will Machine Replace The Human in the Future o...</td>\n",
       "      <td>Ajay Bidyarthy</td>\n",
       "      <td>[Data Science, Analytics, Artificial Intellige...</td>\n",
       "      <td>June 25, 2021</td>\n",
       "      <td>9518</td>\n",
       "      <td>\\n“Anything that could give rise to smarter-th...</td>\n",
       "      <td>Will Machine Replace The Human in the Future o...</td>\n",
       "    </tr>\n",
       "    <tr>\n",
       "      <th>3</th>\n",
       "      <td>41.0</td>\n",
       "      <td>Will AI Replace Us or Work With Us?</td>\n",
       "      <td>Ajay Bidyarthy</td>\n",
       "      <td>[Data Science, Artificial Intelligence, Big Da...</td>\n",
       "      <td>June 25, 2021</td>\n",
       "      <td>8739</td>\n",
       "      <td>\\n“Machine intelligence is the last invention ...</td>\n",
       "      <td>Will AI Replace Us or Work With Us? \\n“Machine...</td>\n",
       "    </tr>\n",
       "    <tr>\n",
       "      <th>4</th>\n",
       "      <td>42.0</td>\n",
       "      <td>Will machine replace the human in the future o...</td>\n",
       "      <td>Ajay Bidyarthy</td>\n",
       "      <td>[Data Science, Analytics, Artificial Intellige...</td>\n",
       "      <td>June 24, 2021</td>\n",
       "      <td>8690</td>\n",
       "      <td>\\nIntroduction\\nWhere is this disruptive techn...</td>\n",
       "      <td>Will machine replace the human in the future o...</td>\n",
       "    </tr>\n",
       "    <tr>\n",
       "      <th>...</th>\n",
       "      <td>...</td>\n",
       "      <td>...</td>\n",
       "      <td>...</td>\n",
       "      <td>...</td>\n",
       "      <td>...</td>\n",
       "      <td>...</td>\n",
       "      <td>...</td>\n",
       "      <td>...</td>\n",
       "    </tr>\n",
       "    <tr>\n",
       "      <th>98</th>\n",
       "      <td>146.0</td>\n",
       "      <td>Blockchain for Payments</td>\n",
       "      <td>Ajay Bidyarthy</td>\n",
       "      <td>[What We Think, BFSI]</td>\n",
       "      <td>September 7, 2019</td>\n",
       "      <td>7424</td>\n",
       "      <td>\\nReconciling with the financial realities of ...</td>\n",
       "      <td>Blockchain for Payments \\nReconciling with the...</td>\n",
       "    </tr>\n",
       "    <tr>\n",
       "      <th>99</th>\n",
       "      <td>147.0</td>\n",
       "      <td>The future of Investing</td>\n",
       "      <td>Ajay Bidyarthy</td>\n",
       "      <td>[What We Think, BFSI]</td>\n",
       "      <td>August 31, 2019</td>\n",
       "      <td>7256</td>\n",
       "      <td>\\nWhat Is an Investment?\\nAn investment is a r...</td>\n",
       "      <td>The future of Investing \\nWhat Is an Investmen...</td>\n",
       "    </tr>\n",
       "    <tr>\n",
       "      <th>100</th>\n",
       "      <td>148.0</td>\n",
       "      <td>Big Data Analytics in Healthcare</td>\n",
       "      <td>Ajay Bidyarthy</td>\n",
       "      <td>[What We Think, Healthcare]</td>\n",
       "      <td>July 19, 2019</td>\n",
       "      <td>7846</td>\n",
       "      <td>\\nQuality and affordable healthcare is a visio...</td>\n",
       "      <td>Big Data Analytics in Healthcare \\nQuality and...</td>\n",
       "    </tr>\n",
       "    <tr>\n",
       "      <th>101</th>\n",
       "      <td>149.0</td>\n",
       "      <td>Business Analytics In The Healthcare Industry</td>\n",
       "      <td>Ajay Bidyarthy</td>\n",
       "      <td>[What We Think, Healthcare]</td>\n",
       "      <td>July 19, 2019</td>\n",
       "      <td>8365</td>\n",
       "      <td>\\nAnalytics is a statistical scientific proces...</td>\n",
       "      <td>Business Analytics In The Healthcare Industry ...</td>\n",
       "    </tr>\n",
       "    <tr>\n",
       "      <th>102</th>\n",
       "      <td>150.0</td>\n",
       "      <td>Challenges and Opportunities of Big Data in He...</td>\n",
       "      <td>Ajay Bidyarthy</td>\n",
       "      <td>[What We Think, Healthcare]</td>\n",
       "      <td>July 19, 2019</td>\n",
       "      <td>9112</td>\n",
       "      <td>\\nBig Data\\nTo begin with I shall first like t...</td>\n",
       "      <td>Challenges and Opportunities of Big Data in He...</td>\n",
       "    </tr>\n",
       "  </tbody>\n",
       "</table>\n",
       "<p>103 rows × 8 columns</p>\n",
       "</div>"
      ],
      "text/plain": [
       "        id                                              title          author  \\\n",
       "0     38.0   What if the Creation is Taking Over the Creator?  Ajay Bidyarthy   \n",
       "1     39.0  What Jobs Will Robots Take From Humans in The ...  Ajay Bidyarthy   \n",
       "2     40.0  Will Machine Replace The Human in the Future o...  Ajay Bidyarthy   \n",
       "3     41.0                Will AI Replace Us or Work With Us?  Ajay Bidyarthy   \n",
       "4     42.0  Will machine replace the human in the future o...  Ajay Bidyarthy   \n",
       "..     ...                                                ...             ...   \n",
       "98   146.0                            Blockchain for Payments  Ajay Bidyarthy   \n",
       "99   147.0                            The future of Investing  Ajay Bidyarthy   \n",
       "100  148.0                   Big Data Analytics in Healthcare  Ajay Bidyarthy   \n",
       "101  149.0      Business Analytics In The Healthcare Industry  Ajay Bidyarthy   \n",
       "102  150.0  Challenges and Opportunities of Big Data in He...  Ajay Bidyarthy   \n",
       "\n",
       "                                              category               date  \\\n",
       "0    [Data Science, Artificial Intelligence, Big Da...      June 25, 2021   \n",
       "1    [Data Science, Artificial Intelligence, Big Da...      June 25, 2021   \n",
       "2    [Data Science, Analytics, Artificial Intellige...      June 25, 2021   \n",
       "3    [Data Science, Artificial Intelligence, Big Da...      June 25, 2021   \n",
       "4    [Data Science, Analytics, Artificial Intellige...      June 24, 2021   \n",
       "..                                                 ...                ...   \n",
       "98                               [What We Think, BFSI]  September 7, 2019   \n",
       "99                               [What We Think, BFSI]    August 31, 2019   \n",
       "100                        [What We Think, Healthcare]      July 19, 2019   \n",
       "101                        [What We Think, Healthcare]      July 19, 2019   \n",
       "102                        [What We Think, Healthcare]      July 19, 2019   \n",
       "\n",
       "      view                                            content  \\\n",
       "0    13033  \\nHuman minds, a fascination in itself carryin...   \n",
       "1     9416  \\nIntroduction\\nAI is rapidly evolving in the ...   \n",
       "2     9518  \\n“Anything that could give rise to smarter-th...   \n",
       "3     8739  \\n“Machine intelligence is the last invention ...   \n",
       "4     8690  \\nIntroduction\\nWhere is this disruptive techn...   \n",
       "..     ...                                                ...   \n",
       "98    7424  \\nReconciling with the financial realities of ...   \n",
       "99    7256  \\nWhat Is an Investment?\\nAn investment is a r...   \n",
       "100   7846  \\nQuality and affordable healthcare is a visio...   \n",
       "101   8365  \\nAnalytics is a statistical scientific proces...   \n",
       "102   9112  \\nBig Data\\nTo begin with I shall first like t...   \n",
       "\n",
       "                                                 merge  \n",
       "0    What if the Creation is Taking Over the Creato...  \n",
       "1    What Jobs Will Robots Take From Humans in The ...  \n",
       "2    Will Machine Replace The Human in the Future o...  \n",
       "3    Will AI Replace Us or Work With Us? \\n“Machine...  \n",
       "4    Will machine replace the human in the future o...  \n",
       "..                                                 ...  \n",
       "98   Blockchain for Payments \\nReconciling with the...  \n",
       "99   The future of Investing \\nWhat Is an Investmen...  \n",
       "100  Big Data Analytics in Healthcare \\nQuality and...  \n",
       "101  Business Analytics In The Healthcare Industry ...  \n",
       "102  Challenges and Opportunities of Big Data in He...  \n",
       "\n",
       "[103 rows x 8 columns]"
      ]
     },
     "execution_count": 16,
     "metadata": {},
     "output_type": "execute_result"
    }
   ],
   "source": [
    "df"
   ]
  },
  {
   "cell_type": "code",
   "execution_count": 17,
   "id": "e3629361",
   "metadata": {},
   "outputs": [],
   "source": [
    "def save_article(article_text,url_id):\n",
    "    file_name=f\"{url_id}.txt\"\n",
    "    \n",
    "    with open(file_name,'w',encoding='utf-8') as file:\n",
    "        file.write(article_text)"
   ]
  },
  {
   "cell_type": "code",
   "execution_count": 18,
   "id": "ce65a2fa",
   "metadata": {},
   "outputs": [],
   "source": [
    "for index, row in df.iterrows():\n",
    "    iid=int(row['id'])\n",
    "    text=row['merge']\n",
    "#     print(type(iid))\n",
    "    save_article(text,iid)"
   ]
  },
  {
   "cell_type": "code",
   "execution_count": 19,
   "id": "2bef6be0",
   "metadata": {},
   "outputs": [],
   "source": [
    "def read_article_text(file_path):\n",
    "    with open(file_path,'r',encoding='utf-8') as file:\n",
    "        article_text=file.read()\n",
    "        \n",
    "    return article_text"
   ]
  },
  {
   "cell_type": "code",
   "execution_count": 20,
   "id": "50781ccc",
   "metadata": {},
   "outputs": [
    {
     "name": "stdout",
     "output_type": "stream",
     "text": [
      "Estimating the impact of COVID-19 on the world of work \n",
      "COVID-19 an unprecedented pandemic for us but a “Can-be” possibility for great leaders such as bill gates came into action since the rising of the year 2020. The corollary of this pandemic is so prodigious that the analysis by the UN Department of Economic and Social Affairs (DESA) stated that the COVID-19 pandemic is disrupting global supply chains and international trade which in turn could shrink the global economy by up to 1 percent in 2020, a reversal from the previous forecast of 2.5 percent growth. More than 6.6 million Americans filed unemployment claims and the economic downturn is expected to be the worst recession since the Great Depression as stated by the IMF. India is facing its biggest crisis in decades, with a three-week lockdown initially, but extending further in a nation of 1.3 billion people likely to result in an economic recession, millions of job losses and possible starvation among the poor. It can be said that economic contagion is now spreading as fast as the disease itself. On the contrary nature has pressed the reset button, the environment is having a noticeable benefit from this scenario. Water is getting clearer, the air is turning breathable and various such news and pictures can be easily heard and seen on newspapers, telly, and social media platforms on day to day basis. But this is the storyline of the present, what about the future? Are the predictions made by financial institutions and thought leaders going to be true? Or something unexpected is going to happen that will make us think of our human capabilities again?\n",
      "After this storm of COVID-19, it would not be a surprise to see how digitally every business will grow to provide better digital infrastructure and customer experience along with advancement in technology which we are lacking in this present scenario. The touch screens that we are using already will find its vast applications and would be seen in most of the places including hotels, hostels, and shopping malls. All those processes which are interdependent will take an agile turn resulting in better productivity of goods, having a systematic backup giving a better experience to the consumer even in hard situations. The major focus would be making contactless systems hence Artificial intelligence and machine learning will become the most rapid and in-demand fields. Not only this, but the medical infrastructure and services will also take a boost in the race of developing the systems to handle any situation afterward. The human to machine interaction will increase facilitating fast production, delivery and surveillance inculcating many more. In each and every area the COVID will leave its mark may it be retail sector or may it be the banking sector making them modify or fully change their architectures.\n",
      "Even the existing systems would be gifted with some modifications, ensuring them to work in a hard environment even with or without human intervention. The Companies will rethink their policies shaping themselves accordingly to manage the resources ensuring safety, agility, and work to be a top priority. The work from home idea will also provide a base for bigger companies ensuring to develop a better infrastructure for their resources and probably giving birth to a new concept of work culture. Various existing industries related to either delivery or travel may adopt the new idea of collaboration with other industries which will result in more options for consumers on their old routine Apps.\n",
      "\n",
      "New businesses will root out from the existing ventures resulting in head to head competition in the business world but turning into a brownie point for consumer experience and bandwidth of choices. Start-up culture will go hand in hand and expected to take a stupendous growth in the race of providing us a legitimate opportunity to use and feel the real digital world. The various innovations will now take a pace in each field and maybe we will hear some new jargons related to tech in upcoming years. Since the global economy has fumbled, countries will now try to take a different turn to vamoose out of this phase. They will try to make new connections by nurturing a give and take relationship and several business relationships would take an unexpected move making the position of several countries sliding up and down on indexes. Even rival countries may join their hands in this hard time rather than being dismissed totally under predator countries. It would be surprising to see how these scenarios will be handled by the emperor of minds and how their opponents are going to take it as an agenda for the next elections.\n",
      "Unfortunately, the nature that is at its best will start to face the ill effects after the chart of development and economy will take a pace for exponential growth. It is unfortunate that the inverse relationship between economic growth and environmental destruction exists since carbon emission increases with economic development. As shown by the graph below whenever recession took place the carbon emission decreases along with other harmful gases, turning out as a gift for nature but doom for the financial markets.\n",
      "\n",
      "But there is a possibility that several start-ups now emerge with the idea of environment conservation collaborating with NGOs innovating and using the best of their capability to reduce the ill effect from the present origin point.\n",
      "In the culmination we can say this pandemic is like “Blessing in disguise ” producing a massive impact not only on macro but also on micro-economy. The novel virus not only brought some unexpected results but also uncovered some of our loopholes and unlatched new opportunities for growth, forcing us to define ourselves in several new spheres. Quite a while ago we all were chit-chatting about the digital Era, how this is benefiting us, COVID-19 revealed making us realize this was just the beginning of digital Era and a lot is needed to happen in future. It is obvious that not only the Indian economy but the global economy is facing and going to face the aftereffects however similar to a virus, the economy will also rise from deep grounds to a green candlestick with individual collaboration!\n",
      "The businesses will soon rise again, people will get back to their jobs, vendors will start getting profits and everything will fall into its places but now a megalithic competitive environment will rise which will grow till decades until nature again shows it’s color and we as a human abide with its outcomes, learning some new lessons and keeping this cycle of fall and growth running.\n",
      "Blackcoffer Insights 17:Vedansh Dubey,TCS Indore M.P \n",
      "\n"
     ]
    }
   ],
   "source": [
    "article_text_38='99.txt'\n",
    "article_text=read_article_text(article_text_38)\n",
    "print(article_text)"
   ]
  },
  {
   "cell_type": "code",
   "execution_count": 21,
   "id": "b58142fc",
   "metadata": {},
   "outputs": [],
   "source": [
    "def calculate_avg_word_length(text):\n",
    "    tokens=text.split()\n",
    "    total_length=sum(len(word) for word in tokens)\n",
    "    num_words=len(tokens)\n",
    "    avg_length=total_length/num_words\n",
    "    return avg_length"
   ]
  },
  {
   "cell_type": "code",
   "execution_count": 22,
   "id": "343e2e9f",
   "metadata": {},
   "outputs": [
    {
     "data": {
      "text/plain": [
       "5.047016274864376"
      ]
     },
     "execution_count": 22,
     "metadata": {},
     "output_type": "execute_result"
    }
   ],
   "source": [
    "calculate_avg_word_length(article_text)"
   ]
  },
  {
   "cell_type": "code",
   "execution_count": 23,
   "id": "60067c38",
   "metadata": {},
   "outputs": [
    {
     "name": "stderr",
     "output_type": "stream",
     "text": [
      "[nltk_data] Downloading package averaged_perceptron_tagger to\n",
      "[nltk_data]     C:\\Users\\HP\\AppData\\Roaming\\nltk_data...\n",
      "[nltk_data]   Package averaged_perceptron_tagger is already up-to-\n",
      "[nltk_data]       date!\n"
     ]
    }
   ],
   "source": [
    "import nltk\n",
    "nltk.download('averaged_perceptron_tagger')\n",
    "\n",
    "def find_personal_pronouns(text):\n",
    "    tokens=nltk.word_tokenize(text)\n",
    "    tagged_words=nltk.pos_tag(tokens)\n",
    "    personal_pronouns=[word for word, tag in tagged_words if tag.startswith('PRP')]\n",
    "    return personal_pronouns"
   ]
  },
  {
   "cell_type": "code",
   "execution_count": 24,
   "id": "10c309f0",
   "metadata": {},
   "outputs": [
    {
     "name": "stdout",
     "output_type": "stream",
     "text": [
      "['us', 'its', 'It', 'itself', 'us', 'our', 'it', 'we', 'we', 'its', 'its', 'it', 'it', 'them', 'their', 'them', 'their', 'themselves', 'their', 'their', 'us', 'we', 'They', 'their', 'It', 'their', 'it', 'its', 'It', 'their', 'we', 'our', 'us', 'ourselves', 'we', 'us', 'us', 'It', 'their', 'its', 'it', 'we', 'its']\n"
     ]
    }
   ],
   "source": [
    "personal_pronouns=find_personal_pronouns(article_text)\n",
    "print(personal_pronouns)"
   ]
  },
  {
   "cell_type": "code",
   "execution_count": 25,
   "id": "8081f92d",
   "metadata": {},
   "outputs": [
    {
     "name": "stderr",
     "output_type": "stream",
     "text": [
      "[nltk_data] Downloading package cmudict to\n",
      "[nltk_data]     C:\\Users\\HP\\AppData\\Roaming\\nltk_data...\n",
      "[nltk_data]   Package cmudict is already up-to-date!\n"
     ]
    }
   ],
   "source": [
    "nltk.download('cmudict')\n",
    "def count_syllables(word):\n",
    "    phones=nltk.corpus.cmudict.dict().get(word.lower())\n",
    "    if phones:\n",
    "        return [len(list(y for y in x if y[-1].isdigit())) for x in phones]\n",
    "    else:\n",
    "        return [0]\n",
    "\n",
    "def calculate_avg_syllables_per_word(text):\n",
    "    tokens=nltk.word_tokenize(text)\n",
    "    total_syllables=sum(sum(count_syllables(word)) for word in tokens)\n",
    "    num_words=len(tokens)\n",
    "    \n",
    "    avg_syllables_per_word=total_syllables/num_words\n",
    "    return avg_syllables_per_word"
   ]
  },
  {
   "cell_type": "code",
   "execution_count": 26,
   "id": "354730ab",
   "metadata": {},
   "outputs": [],
   "source": [
    "# syllabes_per_word=calculate_avg_syllables_per_word(article_text)\n",
    "# print(syllabes_per_word)"
   ]
  },
  {
   "cell_type": "code",
   "execution_count": 27,
   "id": "cdaa436e",
   "metadata": {},
   "outputs": [],
   "source": [
    "def count_words(text):\n",
    "    words=text.split()\n",
    "    num_words=len(words)\n",
    "    return num_words"
   ]
  },
  {
   "cell_type": "code",
   "execution_count": 28,
   "id": "68b6789b",
   "metadata": {},
   "outputs": [
    {
     "name": "stdout",
     "output_type": "stream",
     "text": [
      "1106\n"
     ]
    }
   ],
   "source": [
    "count_words_text=count_words(article_text)\n",
    "print(count_words_text)"
   ]
  },
  {
   "cell_type": "code",
   "execution_count": null,
   "id": "92e09df3",
   "metadata": {},
   "outputs": [],
   "source": []
  },
  {
   "cell_type": "code",
   "execution_count": 29,
   "id": "2450723a",
   "metadata": {},
   "outputs": [],
   "source": [
    "def count_complex_words(text,syllable_threshold):\n",
    "    tokens=nltk.word_tokenize(text)\n",
    "    cmudict=nltk.corpus.cmudict.dict()\n",
    "    num_complex_words=0\n",
    "    for word in tokens:\n",
    "        if word.lower() in cmudict:\n",
    "            syllable_count=[len(list(y for y in x if y[-1].isdigit())) for x in cmudict[word.lower()]]\n",
    "            if max(syllable_count)>=syllable_threshold:\n",
    "                num_complex_words+=1\n",
    "    return num_complex_words"
   ]
  },
  {
   "cell_type": "code",
   "execution_count": 30,
   "id": "76a19c5b",
   "metadata": {},
   "outputs": [
    {
     "name": "stdout",
     "output_type": "stream",
     "text": [
      "201\n"
     ]
    }
   ],
   "source": [
    "tot_complex_word=count_complex_words(article_text,3)\n",
    "print(tot_complex_word)"
   ]
  },
  {
   "cell_type": "code",
   "execution_count": null,
   "id": "5369a682",
   "metadata": {},
   "outputs": [],
   "source": []
  },
  {
   "cell_type": "code",
   "execution_count": 31,
   "id": "c227899c",
   "metadata": {},
   "outputs": [],
   "source": [
    "def calculate_avg_words_per_sentence(text):\n",
    "    sentences=nltk.sent_tokenize(text)\n",
    "    total_words=sum(len(nltk.word_tokenize(sentence)) for sentence in sentences)\n",
    "    avg_words_per_sentence=total_words/len(sentences)\n",
    "    return avg_words_per_sentence"
   ]
  },
  {
   "cell_type": "code",
   "execution_count": 32,
   "id": "6a612649",
   "metadata": {},
   "outputs": [
    {
     "name": "stdout",
     "output_type": "stream",
     "text": [
      "31.105263157894736\n"
     ]
    }
   ],
   "source": [
    "words_per_sent=calculate_avg_words_per_sentence(article_text)\n",
    "print(words_per_sent)"
   ]
  },
  {
   "cell_type": "code",
   "execution_count": null,
   "id": "8bc901ee",
   "metadata": {},
   "outputs": [],
   "source": []
  },
  {
   "cell_type": "code",
   "execution_count": null,
   "id": "37272d74",
   "metadata": {},
   "outputs": [],
   "source": []
  },
  {
   "cell_type": "code",
   "execution_count": null,
   "id": "a2cd9665",
   "metadata": {},
   "outputs": [],
   "source": []
  },
  {
   "cell_type": "code",
   "execution_count": null,
   "id": "85ed27a1",
   "metadata": {},
   "outputs": [],
   "source": []
  },
  {
   "cell_type": "code",
   "execution_count": 33,
   "id": "8ebdf039",
   "metadata": {},
   "outputs": [],
   "source": [
    "def calculate_fog_index(text,syllable_threshold):\n",
    "    \n",
    "    sentences=nltk.sent_tokenize(text)\n",
    "    total_words=sum(len(nltk.word_tokenize(sentence)) for sentence in sentences)\n",
    "    avg_words_per_sentence=total_words/len(sentences)\n",
    "    \n",
    "    num_complex_words=0\n",
    "    for sentence in sentences:\n",
    "        words=nltk.word_tokenize(sentence)\n",
    "        for word in words:\n",
    "            syllables=count_syllables(word.lower())\n",
    "            if max(syllables)>=syllable_threshold:\n",
    "                num_complex_words+=1\n",
    "    \n",
    "    percentage_complex_words= (num_complex_words/total_words)*100\n",
    "    \n",
    "    fog_index=(avg_words_per_sentence+percentage_complex_words)*0.4\n",
    "    return fog_index"
   ]
  },
  {
   "cell_type": "code",
   "execution_count": 34,
   "id": "624327dc",
   "metadata": {},
   "outputs": [],
   "source": [
    "# fog_index=calculate_fog_index(article_text,3)"
   ]
  },
  {
   "cell_type": "code",
   "execution_count": null,
   "id": "f597cb70",
   "metadata": {},
   "outputs": [],
   "source": []
  },
  {
   "cell_type": "code",
   "execution_count": null,
   "id": "27c5a5d4",
   "metadata": {},
   "outputs": [],
   "source": []
  },
  {
   "cell_type": "code",
   "execution_count": null,
   "id": "6455c67f",
   "metadata": {},
   "outputs": [],
   "source": []
  },
  {
   "cell_type": "code",
   "execution_count": null,
   "id": "556df502",
   "metadata": {},
   "outputs": [],
   "source": []
  },
  {
   "cell_type": "code",
   "execution_count": 35,
   "id": "6c0211ef",
   "metadata": {},
   "outputs": [],
   "source": [
    "def calculate_percentage_complex_words(text,syllable_threshold):\n",
    "    sentences=nltk.sent_tokenize(text)\n",
    "    total_words=sum(len(nltk.word_tokenize(sentence)) for sentence in sentences)\n",
    "    \n",
    "    num_complex_words=0\n",
    "    for sentence in sentences:\n",
    "        words=nltk.word_tokenize(sentence)\n",
    "        for word in words:\n",
    "            syllables=count_syllables(word.lower())\n",
    "            if max(syllables)>=syllable_threshold:\n",
    "                num_complex_words+=1\n",
    "                \n",
    "    percentage_complex_words= (num_complex_words/total_words)*100\n",
    "    return percentage_complex_words"
   ]
  },
  {
   "cell_type": "code",
   "execution_count": 36,
   "id": "36041a1b",
   "metadata": {},
   "outputs": [],
   "source": [
    "# percentage_complex_words=calculate_percentage_complex_words(article_text,3)\n",
    "# print(percentage_complex_words)"
   ]
  },
  {
   "cell_type": "code",
   "execution_count": null,
   "id": "b8d91fcc",
   "metadata": {},
   "outputs": [],
   "source": []
  },
  {
   "cell_type": "code",
   "execution_count": 37,
   "id": "05eb7207",
   "metadata": {},
   "outputs": [],
   "source": [
    "def calculate_avg_sentence_length(text):\n",
    "    sentences=nltk.sent_tokenize(text)\n",
    "    total_words=sum(len(nltk.word_tokenize(sentence)) for sentence in sentences)\n",
    "    avg_sentence_length=total_words/len(sentences)\n",
    "    return avg_sentence_length"
   ]
  },
  {
   "cell_type": "code",
   "execution_count": 38,
   "id": "e178c98d",
   "metadata": {},
   "outputs": [
    {
     "name": "stdout",
     "output_type": "stream",
     "text": [
      "31.105263157894736\n"
     ]
    }
   ],
   "source": [
    "avg_sentence_len=calculate_avg_sentence_length(article_text)\n",
    "print(avg_sentence_len)"
   ]
  },
  {
   "cell_type": "code",
   "execution_count": null,
   "id": "297e50f3",
   "metadata": {},
   "outputs": [],
   "source": []
  },
  {
   "cell_type": "code",
   "execution_count": 39,
   "id": "11f928ec",
   "metadata": {},
   "outputs": [],
   "source": [
    "from textblob import TextBlob\n",
    "\n",
    "def calculate_subjectivity_score(text):\n",
    "    blob=TextBlob(text)\n",
    "    subjectivity_score=blob.sentiment.subjectivity\n",
    "    return subjectivity_score"
   ]
  },
  {
   "cell_type": "code",
   "execution_count": 40,
   "id": "a4effd87",
   "metadata": {},
   "outputs": [
    {
     "name": "stdout",
     "output_type": "stream",
     "text": [
      "0.432465963987703\n"
     ]
    }
   ],
   "source": [
    "subjectivity_score=calculate_subjectivity_score(article_text)\n",
    "print(subjectivity_score)"
   ]
  },
  {
   "cell_type": "code",
   "execution_count": null,
   "id": "4c2fd75c",
   "metadata": {},
   "outputs": [],
   "source": []
  },
  {
   "cell_type": "code",
   "execution_count": 41,
   "id": "4ac7ac8a",
   "metadata": {},
   "outputs": [],
   "source": [
    "def calculate_polarity_score(text):\n",
    "    blob=TextBlob(text)\n",
    "    polarity_score=blob.sentiment.polarity\n",
    "    return polarity_score"
   ]
  },
  {
   "cell_type": "code",
   "execution_count": 42,
   "id": "eb8e1560",
   "metadata": {},
   "outputs": [
    {
     "name": "stdout",
     "output_type": "stream",
     "text": [
      "0.07701032059727714\n"
     ]
    }
   ],
   "source": [
    "polarity_score=calculate_polarity_score(article_text)\n",
    "print(polarity_score)"
   ]
  },
  {
   "cell_type": "code",
   "execution_count": null,
   "id": "af2a9622",
   "metadata": {},
   "outputs": [],
   "source": []
  },
  {
   "cell_type": "code",
   "execution_count": 43,
   "id": "4b4e8f91",
   "metadata": {},
   "outputs": [],
   "source": [
    "def calculate_negative_score(text):\n",
    "    blob=TextBlob(text)\n",
    "    polarity_score=blob.sentiment.polarity\n",
    "    negative_score=-polarity_score if polarity_score<0 else 0\n",
    "    return negative_score"
   ]
  },
  {
   "cell_type": "code",
   "execution_count": 44,
   "id": "da7335ea",
   "metadata": {},
   "outputs": [
    {
     "name": "stdout",
     "output_type": "stream",
     "text": [
      "0\n"
     ]
    }
   ],
   "source": [
    "negative_score=calculate_negative_score(article_text)\n",
    "print(negative_score)"
   ]
  },
  {
   "cell_type": "code",
   "execution_count": null,
   "id": "cd19b7aa",
   "metadata": {},
   "outputs": [],
   "source": []
  },
  {
   "cell_type": "code",
   "execution_count": 48,
   "id": "6748cd7c",
   "metadata": {},
   "outputs": [],
   "source": [
    "def calculate_positive_score(text):\n",
    "    blob=TextBlob(text)\n",
    "    polarity_score=blob.sentiment.polarity\n",
    "    positive_score=polarity_score if polarity_score>0 else 0\n",
    "    return positive_score"
   ]
  },
  {
   "cell_type": "code",
   "execution_count": 49,
   "id": "4e1d23b6",
   "metadata": {},
   "outputs": [
    {
     "name": "stdout",
     "output_type": "stream",
     "text": [
      "0.07701032059727714\n"
     ]
    }
   ],
   "source": [
    "positive_score=calculate_positive_score(article_text)\n",
    "print(positive_score)"
   ]
  },
  {
   "cell_type": "code",
   "execution_count": null,
   "id": "db435803",
   "metadata": {},
   "outputs": [],
   "source": []
  },
  {
   "cell_type": "code",
   "execution_count": null,
   "id": "5ccb41ce",
   "metadata": {},
   "outputs": [],
   "source": []
  },
  {
   "cell_type": "code",
   "execution_count": null,
   "id": "28d8e928",
   "metadata": {},
   "outputs": [],
   "source": [
    "article_text_38='99.txt'\n",
    "article_text=read_article_text(article_text_38)\n",
    "print(article_text)"
   ]
  },
  {
   "cell_type": "code",
   "execution_count": 72,
   "id": "9c44f27b",
   "metadata": {},
   "outputs": [],
   "source": [
    "df_output=pd.read_excel(r\"C:\\Users\\HP\\Desktop\\pytyhon\\Output Data Structure.xlsx\")\n",
    "\n",
    "for index, row in df_output.iterrows():\n",
    "    for row in sheet.iter_rows():\n",
    "        for cell in excp:\n",
    "            if(row[0].value==cell):\n",
    "                if cell!=44 and cell!=57 and cell!=144:\n",
    "                    rem.append(row[1].value)\n",
    "                f=-1;\n",
    "        if(f!=-1):\n",
    "            variable_value=cell\n",
    "            file=str(variable_value)+\".txt\"\n",
    "            article_text=read_article_text(file)\n",
    "            print(article_text)\n",
    "#     if row['URL_ID']:\n",
    "#         val=calculate_positive_score()\n"
   ]
  },
  {
   "cell_type": "code",
   "execution_count": null,
   "id": "e7c19818",
   "metadata": {},
   "outputs": [],
   "source": []
  },
  {
   "cell_type": "code",
   "execution_count": null,
   "id": "50e54505",
   "metadata": {},
   "outputs": [],
   "source": []
  },
  {
   "cell_type": "code",
   "execution_count": null,
   "id": "e17bc4c5",
   "metadata": {},
   "outputs": [],
   "source": []
  },
  {
   "cell_type": "code",
   "execution_count": null,
   "id": "3b170ecc",
   "metadata": {},
   "outputs": [],
   "source": []
  },
  {
   "cell_type": "code",
   "execution_count": null,
   "id": "08ba4a3d",
   "metadata": {},
   "outputs": [],
   "source": [
    "file=r\"C:\\Users\\HP\\Desktop\\pytyhon\\MasterDictionary\\positive-words.txt\"\n",
    "positive_words=pd.read_csv(file,delimiter=' ',header=None)\n",
    "print(positive_words)\n",
    "pw=positive_words.to_dict()\n",
    "print(pw)\n",
    "def cal_positive_score(text):\n",
    "    text=text.lower()\n",
    "    words=text.split()\n",
    "    positive_count=sum(word in positive_words for word in words)\n",
    "    positive_score=positive_count/len(words)\n",
    "    return positive_score\n",
    "print(cal_positive_score(ana))"
   ]
  },
  {
   "cell_type": "code",
   "execution_count": null,
   "id": "1f02a225",
   "metadata": {},
   "outputs": [],
   "source": []
  },
  {
   "cell_type": "code",
   "execution_count": null,
   "id": "afd4e08c",
   "metadata": {},
   "outputs": [],
   "source": []
  },
  {
   "cell_type": "code",
   "execution_count": null,
   "id": "301628a1",
   "metadata": {},
   "outputs": [],
   "source": []
  },
  {
   "cell_type": "code",
   "execution_count": null,
   "id": "5e93121f",
   "metadata": {},
   "outputs": [],
   "source": []
  },
  {
   "cell_type": "code",
   "execution_count": null,
   "id": "34c9ced2",
   "metadata": {},
   "outputs": [],
   "source": []
  },
  {
   "cell_type": "code",
   "execution_count": null,
   "id": "a13a3ecb",
   "metadata": {},
   "outputs": [],
   "source": []
  },
  {
   "cell_type": "code",
   "execution_count": null,
   "id": "8b547c23",
   "metadata": {},
   "outputs": [],
   "source": []
  },
  {
   "cell_type": "code",
   "execution_count": null,
   "id": "a4b90e89",
   "metadata": {},
   "outputs": [],
   "source": []
  },
  {
   "cell_type": "code",
   "execution_count": null,
   "id": "b02b7793",
   "metadata": {},
   "outputs": [],
   "source": []
  },
  {
   "cell_type": "code",
   "execution_count": null,
   "id": "aee6351e",
   "metadata": {},
   "outputs": [],
   "source": []
  },
  {
   "cell_type": "code",
   "execution_count": null,
   "id": "1d24c392",
   "metadata": {},
   "outputs": [],
   "source": []
  },
  {
   "cell_type": "code",
   "execution_count": null,
   "id": "b02cca19",
   "metadata": {},
   "outputs": [],
   "source": []
  },
  {
   "cell_type": "code",
   "execution_count": null,
   "id": "6ba6fa16",
   "metadata": {
    "scrolled": true
   },
   "outputs": [],
   "source": [
    "# import pandas as pd\n",
    "# positive_words_given=pd.read_fwf(r\"C:\\Users\\HP\\Desktop\\pytyhon\\MasterDictionary\\positive-words.txt\");\n",
    "# negative_words_given=pd.read_csv(r\"C:\\Users\\HP\\Desktop\\pytyhon\\MasterDictionary\\negative-words.txt\",encoding=\"ISO-8859-1\")\n",
    "# negative_words_given.head()"
   ]
  },
  {
   "cell_type": "code",
   "execution_count": null,
   "id": "d4807a21",
   "metadata": {},
   "outputs": [],
   "source": [
    "# import nltk\n",
    "# #nltk.download('punkt')\n",
    "\n",
    "# from nltk.sentiment import SentimentIntensityAnalyzer\n",
    "\n",
    "# sia=SentimentIntensityAnalyzer()\n",
    "\n",
    "# #for sentence in positive_words_given:\n",
    "#    # words=nltk.word_tokenize(sentence)\n",
    "#    # for word in words:\n",
    "#        # word.lower()\n",
    "# #delete_list=[',','&','!','?','.','/','(',')','2022','31','%','...','.','@']\n",
    "\n",
    "# for sentence in article_text:\n",
    "#     words=nltk.word_tokenize(sentence)\n",
    "#     for word in words:\n",
    "#         if word in delete_list:\n",
    "#            del word\n",
    "#            continue;\n",
    "#         word.lower()\n",
    "    \n",
    "# #print(positive_words_given)\n",
    "\n",
    "# #positive_words_given=['love', 'amazing', 'great', 'happy', 'excited','travel']\n",
    "# #article_text\n",
    "\n",
    "# sentences=nltk.sent_tokenize(article_text)\n",
    "\n",
    "# positive_score=0\n",
    "\n",
    "# for sentence in sentences:\n",
    "#     words=nltk.word_tokenize(sentence)\n",
    "#     for word in words:\n",
    "#         sentiment_score=[sia.polarity_scores(word)['pos'] for word in words if word.lower() in positive_words_given]\n",
    "#         sentence_positive_score=sum(sentiment_score);\n",
    "#         positive_score+=sentence_positive_score\n",
    "\n",
    "# print(\"Positive score:\",positive_score)\n"
   ]
  },
  {
   "cell_type": "code",
   "execution_count": null,
   "id": "40ee0768",
   "metadata": {},
   "outputs": [],
   "source": [
    "# url1=\"https://insights.blackcoffer.com/travel-and-tourism-outlook/\"\n",
    "# url2=\"https://insights.blackcoffer.com/blockchain-for-payments/\"\n",
    "\n",
    "# response1=requests.get(url1)"
   ]
  },
  {
   "cell_type": "code",
   "execution_count": null,
   "id": "94a4d582",
   "metadata": {},
   "outputs": [],
   "source": [
    "# soup1=BeautifulSoup(response.content,\"html.parser\")"
   ]
  }
 ],
 "metadata": {
  "kernelspec": {
   "display_name": "Python 3 (ipykernel)",
   "language": "python",
   "name": "python3"
  },
  "language_info": {
   "codemirror_mode": {
    "name": "ipython",
    "version": 3
   },
   "file_extension": ".py",
   "mimetype": "text/x-python",
   "name": "python",
   "nbconvert_exporter": "python",
   "pygments_lexer": "ipython3",
   "version": "3.10.4"
  }
 },
 "nbformat": 4,
 "nbformat_minor": 5
}
